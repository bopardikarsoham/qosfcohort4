{
 "cells": [
  {
   "cell_type": "markdown",
   "id": "9bbac14f-817e-49ab-95d9-9b6686eca92b",
   "metadata": {},
   "source": [
    "## Task 2\n",
    "\n",
    "\n",
    "### Prepare 4 random 4-qubit quantum states of your choice.\n",
    "\n",
    "Create and train a variational circuit that transforms input states into predefined output states. Namely\n",
    "\n",
    "if random state 1 is provided, it returns state |0011>\n",
    "\n",
    "if random state 2 is provided, it returns state |0101>\n",
    "\n",
    "if random state 3 is provided, it returns state |1010>\n",
    "\n",
    "if random state 4 is provided, it returns state |1100>\n",
    "\n",
    "What would happen if you provided a different state?\n",
    "\n",
    "Analyze and discuss the results."
   ]
  },
  {
   "cell_type": "markdown",
   "id": "da3462fd-b78f-4548-a29e-6743103fcd4d",
   "metadata": {},
   "source": [
    "### I have solved this classification problem using a Quantum Support Vector Machine"
   ]
  },
  {
   "cell_type": "markdown",
   "id": "24c1b998-78c1-4773-b618-adb286a19715",
   "metadata": {},
   "source": [
    "#### A Brief Intro to Quantum Support Vector Machines:"
   ]
  },
  {
   "cell_type": "markdown",
   "id": "a7b2dff7-3479-4292-9e8e-71ef3153c2c9",
   "metadata": {},
   "source": [
    "##### 1) What is a Support Vector Machine?\n",
    "\n",
    "A support vector machine is a supervised machine learning method that is trained using a dataset and will predict if a particular observation is in a certain class based upon what it has been trained on. It is similar to a linear classifier which uses a hyperplane to separate classes. However along with the hyperplane support vectors are used. These are essentially data points that are used to maximise the margin and thus the distance between the classes. \n",
    "\n",
    "However the Quantum Support Vector Machine is different from a Classical Support Vector Machine."
   ]
  },
  {
   "cell_type": "markdown",
   "id": "82597b4a-19d7-4f90-b088-c36612ff180c",
   "metadata": {},
   "source": [
    "##### 2) What is a Quantum Support Vector Machine(QSVM)?\n",
    "\n",
    "The Quantum Support Vector Machine is different from a Classical Support Vector Machine. It uses a feature map to map data points to a quantum circuit.  "
   ]
  },
  {
   "cell_type": "markdown",
   "id": "a800b5ed-f28d-4cfa-8da2-aaaa0adc0ad0",
   "metadata": {},
   "source": [
    "##### Steps to Build a Quantum Support Vector Machine:-"
   ]
  },
  {
   "cell_type": "markdown",
   "id": "e0173117-9750-4fee-a2ea-7d4faada9114",
   "metadata": {},
   "source": [
    "1) Prepare your dataset and split it into the appropriate Training and Testing ratio.\n",
    "\n",
    "2) Encode the training data in a Feature Map .\n",
    "\n",
    "3) Prepare the train and test kernel matrices from the Feature Map circuit.\n",
    "\n",
    "4) Test your Quantum Kernel matrices on Classical Classifiers.\n",
    "\n",
    "5) Compare the QSVM Kernel Classification results with a Classical SVM."
   ]
  },
  {
   "cell_type": "markdown",
   "metadata": {},
   "source": [
    "##### Where do I see the real Quantum process in a QSVM?"
   ]
  },
  {
   "cell_type": "markdown",
   "metadata": {},
   "source": [
    "Encoding the data via a Feature Map in a Quantum Circuit is what makes the QSVM really \"Quantum\" instead of a classical simulation."
   ]
  },
  {
   "cell_type": "markdown",
   "metadata": {},
   "source": [
    "### So, Let's Start"
   ]
  },
  {
   "cell_type": "markdown",
   "id": "83db300d-1afb-4a9f-847a-83294a953ff3",
   "metadata": {},
   "source": [
    "### Importing the necessary libraries"
   ]
  },
  {
   "cell_type": "code",
   "execution_count": 1,
   "id": "503c8509-bec8-4fae-b6c3-132d4848c42e",
   "metadata": {},
   "outputs": [],
   "source": [
    "# General Imports\n",
    "import numpy as np\n",
    "\n",
    "# Visualisation Imports\n",
    "import matplotlib.pyplot as plt\n",
    "\n",
    "# Scikit Imports\n",
    "from sklearn import datasets\n",
    "from sklearn.model_selection import train_test_split\n",
    "from sklearn.svm import SVC\n",
    "from sklearn.decomposition import PCA\n",
    "from sklearn.preprocessing import StandardScaler, MinMaxScaler\n",
    "\n",
    "# Pandas Imports\n",
    "import pandas as pd\n",
    "\n",
    "# Qiskit Imports\n",
    "from qiskit import Aer, execute\n",
    "from qiskit.circuit import QuantumCircuit, Parameter, ParameterVector\n",
    "from qiskit.visualization import plot_histogram\n",
    "from qiskit.circuit.library import PauliFeatureMap, ZFeatureMap, ZZFeatureMap\n",
    "from qiskit.circuit.library import TwoLocal, NLocal, RealAmplitudes, EfficientSU2\n",
    "from qiskit.circuit.library import HGate, RXGate, RYGate, RZGate, CXGate, CRXGate, CRZGate\n",
    "from qiskit_machine_learning.kernels import QuantumKernel"
   ]
  },
  {
   "cell_type": "markdown",
   "id": "62fae132-fccc-4a36-8327-9d608e4f076a",
   "metadata": {},
   "source": [
    "`output_state` is a simple function that acts as a mapper. It is basically mapping the parameters given in the Task Question.\n",
    "\n",
    "1 ---> 0011\n",
    "\n",
    "2 ---> 0101\n",
    "\n",
    "3 ---> 1010\n",
    "\n",
    "4 ---> 1100\n",
    "\n",
    "Any other digit like 6-9 ---> None"
   ]
  },
  {
   "cell_type": "code",
   "execution_count": 2,
   "id": "a92d279a-7ce6-4dad-8c8c-d5f08eb4e769",
   "metadata": {},
   "outputs": [],
   "source": [
    "def output_state(x):\n",
    "    if x == 1:\n",
    "        return '0011'\n",
    "    elif x == 2:\n",
    "        return '0101'\n",
    "    elif x == 3:\n",
    "        return '1010'\n",
    "    elif x == 4:\n",
    "        return '1100'\n",
    "    else:\n",
    "        return 'None'"
   ]
  },
  {
   "cell_type": "markdown",
   "id": "47b26aaf-4c84-4d19-a5f9-223bcd647a03",
   "metadata": {},
   "source": [
    "`decimaltoBinary` is a simple function that converts a Decimal number to a Binary number."
   ]
  },
  {
   "cell_type": "code",
   "execution_count": 3,
   "id": "20b97da0-9d20-4bd9-92de-791e1b5d2c6f",
   "metadata": {},
   "outputs": [
    {
     "name": "stdout",
     "output_type": "stream",
     "text": [
      "1000\n"
     ]
    }
   ],
   "source": [
    "def decimalToBinary(n):\n",
    "    return bin(n).replace(\"0b\", \"\")\n",
    "   \n",
    "if __name__ == '__main__':\n",
    "    print(decimalToBinary(8))"
   ]
  },
  {
   "cell_type": "markdown",
   "id": "cb0837b7-053e-4b1c-b30f-59c4505b1e8f",
   "metadata": {},
   "source": [
    "### Preparation of the dataset\n",
    "\n",
    "#### The Features and labels of this Dataset:-\n",
    "\n",
    "1) Input State - Generate 150 random input output states with digits ranging from 0-9.\n",
    "\n",
    "2) Binary State - Converts the Input decimal digits to binary by our `decimaltoBinary` function.\n",
    "\n",
    "3) Counter - This is a variable that simply assigns it's value as 1 if the state 1,2,3 or 4 is present otherwise a value of 0 is assigned.\n",
    "\n",
    "4) Output - The states that we get by our `get_output` function.\n",
    "\n",
    "\n",
    "#### Dummy Variables and One Hot Encoding\n",
    "\n",
    "I will be using a ZZFeature map to encode my data in further steps. But, the ZZFeature map needs at least 2 qubits meaning we need to have at least two features in our dataset to make use of the ZZFeature map.\n",
    "\n",
    "Here,\n",
    "\n",
    "1) Binary State is the Dummy Variable which is simply derived from the first feature, the Input State.\n",
    "\n",
    "2) Counter is the One Hot Encoding variable for which I have used the simple One Hot Encoding function."
   ]
  },
  {
   "cell_type": "code",
   "execution_count": 7,
   "id": "14c19a7f-7f83-415a-bd73-457aa1b75021",
   "metadata": {},
   "outputs": [
    {
     "data": {
      "text/html": [
       "<div>\n",
       "<style scoped>\n",
       "    .dataframe tbody tr th:only-of-type {\n",
       "        vertical-align: middle;\n",
       "    }\n",
       "\n",
       "    .dataframe tbody tr th {\n",
       "        vertical-align: top;\n",
       "    }\n",
       "\n",
       "    .dataframe thead th {\n",
       "        text-align: right;\n",
       "    }\n",
       "</style>\n",
       "<table border=\"1\" class=\"dataframe\">\n",
       "  <thead>\n",
       "    <tr style=\"text-align: right;\">\n",
       "      <th></th>\n",
       "      <th>Input State</th>\n",
       "      <th>Binary State</th>\n",
       "      <th>Counter</th>\n",
       "      <th>Output</th>\n",
       "    </tr>\n",
       "  </thead>\n",
       "  <tbody>\n",
       "    <tr>\n",
       "      <th>0</th>\n",
       "      <td>4</td>\n",
       "      <td>100</td>\n",
       "      <td>1</td>\n",
       "      <td>1100</td>\n",
       "    </tr>\n",
       "    <tr>\n",
       "      <th>1</th>\n",
       "      <td>2</td>\n",
       "      <td>10</td>\n",
       "      <td>1</td>\n",
       "      <td>0101</td>\n",
       "    </tr>\n",
       "    <tr>\n",
       "      <th>2</th>\n",
       "      <td>5</td>\n",
       "      <td>101</td>\n",
       "      <td>0</td>\n",
       "      <td>None</td>\n",
       "    </tr>\n",
       "    <tr>\n",
       "      <th>3</th>\n",
       "      <td>1</td>\n",
       "      <td>1</td>\n",
       "      <td>1</td>\n",
       "      <td>0011</td>\n",
       "    </tr>\n",
       "    <tr>\n",
       "      <th>4</th>\n",
       "      <td>7</td>\n",
       "      <td>111</td>\n",
       "      <td>0</td>\n",
       "      <td>None</td>\n",
       "    </tr>\n",
       "  </tbody>\n",
       "</table>\n",
       "</div>"
      ],
      "text/plain": [
       "   Input State Binary State  Counter Output\n",
       "0            4          100        1   1100\n",
       "1            2           10        1   0101\n",
       "2            5          101        0   None\n",
       "3            1            1        1   0011\n",
       "4            7          111        0   None"
      ]
     },
     "execution_count": 7,
     "metadata": {},
     "output_type": "execute_result"
    }
   ],
   "source": [
    "#Input State\n",
    "input_states = [] \n",
    "for i in range(150):\n",
    "    ele = np.random.randint(0, 10)\n",
    "    input_states.append(ele) \n",
    "\n",
    "#Binary State\n",
    "binary_states = []\n",
    "for i in input_states:\n",
    "    bv = decimalToBinary(i)\n",
    "    binary_states.append(bv)\n",
    "\n",
    "#Counter\n",
    "counter = [1 if i in [1, 2, 3, 4] else 0 for i in input_states] #One Hot Encoding function\n",
    "\n",
    "#Output\n",
    "output = [] \n",
    "for i in input_states:\n",
    "    elem = output_state(i)\n",
    "    output.append(elem)\n",
    "df = pd.DataFrame({'Input State': input_states,'Binary State':binary_states,'Counter':counter,'Output': output})\n",
    "df.head()"
   ]
  },
  {
   "cell_type": "markdown",
   "metadata": {},
   "source": [
    "### Splitting the dataset into half for data visualization purposes"
   ]
  },
  {
   "cell_type": "code",
   "execution_count": 36,
   "id": "c0e78c44-03a8-40bc-885a-fb74cb2bbc53",
   "metadata": {},
   "outputs": [],
   "source": [
    "df0 = df[:75]\n",
    "df1 = df[:150]"
   ]
  },
  {
   "cell_type": "markdown",
   "id": "8aaa0844-08c3-44ba-b3cf-8b8129fcaf88",
   "metadata": {},
   "source": [
    "### Data Visualization using Matplotlib\n",
    "\n",
    "Plotting our features to find a relation between them"
   ]
  },
  {
   "cell_type": "code",
   "execution_count": 38,
   "id": "8e6974c9-71e5-406d-945c-6f5cd1cf7f0a",
   "metadata": {},
   "outputs": [
    {
     "data": {
      "text/plain": [
       "<matplotlib.collections.PathCollection at 0x7efda1fa8af0>"
      ]
     },
     "execution_count": 38,
     "metadata": {},
     "output_type": "execute_result"
    },
    {
     "data": {
      "image/png": "[encoded data removed]",
      "text/plain": [
       "<Figure size 432x288 with 1 Axes>"
      ]
     },
     "metadata": {
      "needs_background": "light"
     },
     "output_type": "display_data"
    }
   ],
   "source": [
    "plt.xlabel('Input State')\n",
    "plt.ylabel('Output')\n",
    "plt.scatter(df0['Input State'], df0['Output'],color=\"red\",marker='+')\n",
    "plt.scatter(df1['Input State'], df1['Output'],color=\"blue\",marker='.')"
   ]
  },
  {
   "cell_type": "code",
   "execution_count": 40,
   "id": "da6c1920-abdc-4000-bb20-26aa9b2c9e5f",
   "metadata": {},
   "outputs": [
    {
     "data": {
      "text/plain": [
       "<matplotlib.collections.PathCollection at 0x7efe38a32cd0>"
      ]
     },
     "execution_count": 40,
     "metadata": {},
     "output_type": "execute_result"
    },
    {
     "data": {
      "image/png": "[encoded data removed]",
      "text/plain": [
       "<Figure size 432x288 with 1 Axes>"
      ]
     },
     "metadata": {
      "needs_background": "light"
     },
     "output_type": "display_data"
    }
   ],
   "source": [
    "plt.xlabel('Binary State')\n",
    "plt.ylabel('Output')\n",
    "plt.scatter(df0['Binary State'], df0['Output'],color=\"green\",marker='+')\n",
    "plt.scatter(df1['Binary State'], df1['Output'],color=\"pink\",marker='.')"
   ]
  },
  {
   "cell_type": "code",
   "execution_count": 42,
   "id": "848d89e0-db27-4f60-8089-e22d03354e8d",
   "metadata": {},
   "outputs": [
    {
     "data": {
      "text/plain": [
       "<matplotlib.collections.PathCollection at 0x7efe38a8baf0>"
      ]
     },
     "execution_count": 42,
     "metadata": {},
     "output_type": "execute_result"
    },
    {
     "data": {
      "image/png": "[encoded data removed]",
      "text/plain": [
       "<Figure size 432x288 with 1 Axes>"
      ]
     },
     "metadata": {
      "needs_background": "light"
     },
     "output_type": "display_data"
    }
   ],
   "source": [
    "plt.xlabel('Counter')\n",
    "plt.ylabel('Output')\n",
    "plt.scatter(df0['Counter'], df0['Output'],color=\"black\",marker='+')\n",
    "plt.scatter(df1['Counter'], df1['Output'],color=\"orange\",marker='.')"
   ]
  },
  {
   "cell_type": "code",
   "execution_count": 43,
   "id": "fe435b32-5cb8-4a0b-91d9-93a972b6d65a",
   "metadata": {},
   "outputs": [
    {
     "data": {
      "text/plain": [
       "<matplotlib.collections.PathCollection at 0x7efe38ab97c0>"
      ]
     },
     "execution_count": 43,
     "metadata": {},
     "output_type": "execute_result"
    },
    {
     "data": {
      "image/png": "[encoded data removed]",
      "text/plain": [
       "<Figure size 432x288 with 1 Axes>"
      ]
     },
     "metadata": {
      "needs_background": "light"
     },
     "output_type": "display_data"
    }
   ],
   "source": [
    "plt.xlabel('Binary State')\n",
    "plt.ylabel('Counter')\n",
    "plt.scatter(df0['Binary State'], df0['Counter'],color=\"green\",marker='+')\n",
    "plt.scatter(df1['Binary State'], df1['Counter'],color=\"pink\",marker='.')"
   ]
  },
  {
   "cell_type": "markdown",
   "metadata": {},
   "source": [
    "As you can see every feature is Overlapping with each other."
   ]
  },
  {
   "cell_type": "markdown",
   "metadata": {},
   "source": [
    "### Splitting the Dataset into training and testing sets by using the `train_test_split` function in sklearn"
   ]
  },
  {
   "cell_type": "markdown",
   "id": "c51a39ec-3c9a-40fd-bac6-20b32b088e1a",
   "metadata": {},
   "source": [
    "There are a total of 150 datapoints in the dataset. Each element is an integer between 0 and 9. As per classical classification, we need to split the dataset into training (120) and testing (30) samples i.e. 20% test and 80% training , and normalise it using the Standard Scalar. To use the dataset for quantum classification, we need to scale the range to between -1 and 1. We  also label all of the datapoints by label_train and label_test variables."
   ]
  },
  {
   "cell_type": "code",
   "execution_count": 28,
   "id": "c2179cc9-be19-46b3-a5ea-ed9da75259d8",
   "metadata": {},
   "outputs": [],
   "source": [
    "sample_train, sample_test, label_train, label_test = train_test_split(df[['Input State','Binary State','Counter']], df['Output'],test_size=0.2,\n",
    "                                                                      random_state=42)\n",
    "\n",
    "# Normalise\n",
    "std_scale = StandardScaler().fit(sample_train)\n",
    "sample_train = std_scale.transform(sample_train)\n",
    "sample_test = std_scale.transform(sample_test)\n",
    "\n",
    "# Scale\n",
    "samples = np.append(sample_train, sample_test, axis=0)\n",
    "minmax_scale = MinMaxScaler((-1, 1)).fit(samples)\n",
    "sample_train = minmax_scale.transform(sample_train)\n",
    "sample_test = minmax_scale.transform(sample_test)\n",
    "\n",
    "# Select\n",
    "train_size = 120\n",
    "\n",
    "label_train = label_train[:train_size].tolist() #Converting the data into a list\n",
    "\n",
    "test_size = 30\n",
    "sample_test = sample_test[:test_size]\n",
    "label_test = label_test[:test_size].tolist()"
   ]
  },
  {
   "cell_type": "markdown",
   "metadata": {},
   "source": [
    "The data arrays constructed from the features in the dataset"
   ]
  },
  {
   "cell_type": "code",
   "execution_count": 30,
   "id": "5fedf132-d90f-4aaf-a1cf-f7b5d87e651e",
   "metadata": {},
   "outputs": [
    {
     "name": "stdout",
     "output_type": "stream",
     "text": [
      "[[ 1.          1.         -1.        ]\n",
      " [-0.55555556 -0.98001998  1.        ]\n",
      " [-0.77777778 -0.998002    1.        ]\n",
      " [-1.         -1.         -1.        ]\n",
      " [ 0.55555556 -0.77822178 -1.        ]\n",
      " [-0.11111111 -0.8001998   1.        ]\n",
      " [-1.         -1.         -1.        ]\n",
      " [ 0.11111111 -0.7982018  -1.        ]\n",
      " [-0.11111111 -0.8001998   1.        ]\n",
      " [ 0.55555556 -0.77822178 -1.        ]\n",
      " [ 0.55555556 -0.77822178 -1.        ]\n",
      " [ 0.33333333 -0.78021978 -1.        ]\n",
      " [-1.         -1.         -1.        ]\n",
      " [-1.         -1.         -1.        ]\n",
      " [ 0.33333333 -0.78021978 -1.        ]\n",
      " [ 0.77777778  0.998002   -1.        ]\n",
      " [-1.         -1.         -1.        ]\n",
      " [ 0.77777778  0.998002   -1.        ]\n",
      " [-1.         -1.         -1.        ]\n",
      " [ 0.33333333 -0.78021978 -1.        ]\n",
      " [-0.55555556 -0.98001998  1.        ]\n",
      " [-0.77777778 -0.998002    1.        ]\n",
      " [-0.55555556 -0.98001998  1.        ]\n",
      " [ 0.11111111 -0.7982018  -1.        ]\n",
      " [-0.55555556 -0.98001998  1.        ]\n",
      " [-0.33333333 -0.97802198  1.        ]\n",
      " [-1.         -1.         -1.        ]\n",
      " [ 0.33333333 -0.78021978 -1.        ]\n",
      " [-1.         -1.         -1.        ]\n",
      " [-0.77777778 -0.998002    1.        ]\n",
      " [ 0.77777778  0.998002   -1.        ]\n",
      " [ 1.          1.         -1.        ]\n",
      " [-0.77777778 -0.998002    1.        ]\n",
      " [ 0.55555556 -0.77822178 -1.        ]\n",
      " [ 0.55555556 -0.77822178 -1.        ]\n",
      " [ 0.77777778  0.998002   -1.        ]\n",
      " [-1.         -1.         -1.        ]\n",
      " [-0.55555556 -0.98001998  1.        ]\n",
      " [-1.         -1.         -1.        ]\n",
      " [ 0.11111111 -0.7982018  -1.        ]\n",
      " [ 0.11111111 -0.7982018  -1.        ]\n",
      " [-1.         -1.         -1.        ]\n",
      " [ 0.55555556 -0.77822178 -1.        ]\n",
      " [ 1.          1.         -1.        ]\n",
      " [-0.33333333 -0.97802198  1.        ]\n",
      " [ 0.55555556 -0.77822178 -1.        ]\n",
      " [ 0.33333333 -0.78021978 -1.        ]\n",
      " [-0.33333333 -0.97802198  1.        ]\n",
      " [-0.33333333 -0.97802198  1.        ]\n",
      " [ 0.55555556 -0.77822178 -1.        ]\n",
      " [-1.         -1.         -1.        ]\n",
      " [-0.33333333 -0.97802198  1.        ]\n",
      " [-0.55555556 -0.98001998  1.        ]\n",
      " [-0.55555556 -0.98001998  1.        ]\n",
      " [-0.77777778 -0.998002    1.        ]\n",
      " [-0.11111111 -0.8001998   1.        ]\n",
      " [-0.33333333 -0.97802198  1.        ]\n",
      " [ 0.55555556 -0.77822178 -1.        ]\n",
      " [ 0.11111111 -0.7982018  -1.        ]\n",
      " [ 0.11111111 -0.7982018  -1.        ]\n",
      " [-0.77777778 -0.998002    1.        ]\n",
      " [-0.11111111 -0.8001998   1.        ]\n",
      " [ 1.          1.         -1.        ]\n",
      " [-0.77777778 -0.998002    1.        ]\n",
      " [-0.77777778 -0.998002    1.        ]\n",
      " [-1.         -1.         -1.        ]\n",
      " [-0.77777778 -0.998002    1.        ]\n",
      " [ 0.11111111 -0.7982018  -1.        ]\n",
      " [ 0.77777778  0.998002   -1.        ]\n",
      " [-0.77777778 -0.998002    1.        ]\n",
      " [ 0.11111111 -0.7982018  -1.        ]\n",
      " [-1.         -1.         -1.        ]\n",
      " [-1.         -1.         -1.        ]\n",
      " [-0.33333333 -0.97802198  1.        ]\n",
      " [ 1.          1.         -1.        ]\n",
      " [-0.11111111 -0.8001998   1.        ]\n",
      " [ 0.77777778  0.998002   -1.        ]\n",
      " [-0.77777778 -0.998002    1.        ]\n",
      " [-1.         -1.         -1.        ]\n",
      " [ 0.77777778  0.998002   -1.        ]\n",
      " [ 0.77777778  0.998002   -1.        ]\n",
      " [ 0.55555556 -0.77822178 -1.        ]\n",
      " [ 0.55555556 -0.77822178 -1.        ]\n",
      " [-0.33333333 -0.97802198  1.        ]\n",
      " [ 1.          1.         -1.        ]\n",
      " [-0.77777778 -0.998002    1.        ]\n",
      " [ 0.33333333 -0.78021978 -1.        ]\n",
      " [ 0.77777778  0.998002   -1.        ]\n",
      " [-0.33333333 -0.97802198  1.        ]\n",
      " [-0.77777778 -0.998002    1.        ]\n",
      " [ 0.11111111 -0.7982018  -1.        ]\n",
      " [ 0.77777778  0.998002   -1.        ]\n",
      " [ 0.55555556 -0.77822178 -1.        ]\n",
      " [ 0.33333333 -0.78021978 -1.        ]\n",
      " [-0.77777778 -0.998002    1.        ]\n",
      " [ 0.33333333 -0.78021978 -1.        ]\n",
      " [ 0.33333333 -0.78021978 -1.        ]\n",
      " [-0.11111111 -0.8001998   1.        ]\n",
      " [ 0.33333333 -0.78021978 -1.        ]\n",
      " [ 0.11111111 -0.7982018  -1.        ]\n",
      " [ 0.55555556 -0.77822178 -1.        ]\n",
      " [-0.11111111 -0.8001998   1.        ]\n",
      " [ 0.55555556 -0.77822178 -1.        ]\n",
      " [ 1.          1.         -1.        ]\n",
      " [ 0.33333333 -0.78021978 -1.        ]\n",
      " [-1.         -1.         -1.        ]\n",
      " [-1.         -1.         -1.        ]\n",
      " [ 0.55555556 -0.77822178 -1.        ]\n",
      " [ 0.55555556 -0.77822178 -1.        ]\n",
      " [-0.55555556 -0.98001998  1.        ]\n",
      " [ 0.77777778  0.998002   -1.        ]\n",
      " [-0.77777778 -0.998002    1.        ]\n",
      " [-0.33333333 -0.97802198  1.        ]\n",
      " [-0.11111111 -0.8001998   1.        ]\n",
      " [-1.         -1.         -1.        ]\n",
      " [ 0.55555556 -0.77822178 -1.        ]\n",
      " [-0.11111111 -0.8001998   1.        ]\n",
      " [-0.33333333 -0.97802198  1.        ]\n",
      " [-0.33333333 -0.97802198  1.        ]\n",
      " [-1.         -1.         -1.        ]] ['None', '0101', '0011', 'None', 'None', '1100', 'None', 'None', '1100', 'None', 'None', 'None', 'None', 'None', 'None', 'None', 'None', 'None', 'None', 'None', '0101', '0011', '0101', 'None', '0101', '1010', 'None', 'None', 'None', '0011', 'None', 'None', '0011', 'None', 'None', 'None', 'None', '0101', 'None', 'None', 'None', 'None', 'None', 'None', '1010', 'None', 'None', '1010', '1010', 'None', 'None', '1010', '0101', '0101', '0011', '1100', '1010', 'None', 'None', 'None', '0011', '1100', 'None', '0011', '0011', 'None', '0011', 'None', 'None', '0011', 'None', 'None', 'None', '1010', 'None', '1100', 'None', '0011', 'None', 'None', 'None', 'None', 'None', '1010', 'None', '0011', 'None', 'None', '1010', '0011', 'None', 'None', 'None', 'None', '0011', 'None', 'None', '1100', 'None', 'None', 'None', '1100', 'None', 'None', 'None', 'None', 'None', 'None', 'None', '0101', 'None', '0011', '1010', '1100', 'None', 'None', '1100', '1010', '1010', 'None']\n",
      "[[ 1.          1.         -1.        ]\n",
      " [-0.11111111 -0.8001998   1.        ]\n",
      " [-0.11111111 -0.8001998   1.        ]\n",
      " [-1.         -1.         -1.        ]\n",
      " [ 1.          1.         -1.        ]\n",
      " [-1.         -1.         -1.        ]\n",
      " [ 1.          1.         -1.        ]\n",
      " [ 0.55555556 -0.77822178 -1.        ]\n",
      " [ 0.33333333 -0.78021978 -1.        ]\n",
      " [-0.11111111 -0.8001998   1.        ]\n",
      " [-0.55555556 -0.98001998  1.        ]\n",
      " [ 0.33333333 -0.78021978 -1.        ]\n",
      " [-0.11111111 -0.8001998   1.        ]\n",
      " [-1.         -1.         -1.        ]\n",
      " [-0.77777778 -0.998002    1.        ]\n",
      " [ 0.11111111 -0.7982018  -1.        ]\n",
      " [-0.11111111 -0.8001998   1.        ]\n",
      " [ 0.55555556 -0.77822178 -1.        ]\n",
      " [ 0.33333333 -0.78021978 -1.        ]\n",
      " [-0.77777778 -0.998002    1.        ]\n",
      " [ 1.          1.         -1.        ]\n",
      " [ 0.11111111 -0.7982018  -1.        ]\n",
      " [-0.77777778 -0.998002    1.        ]\n",
      " [-1.         -1.         -1.        ]\n",
      " [ 0.77777778  0.998002   -1.        ]\n",
      " [ 0.77777778  0.998002   -1.        ]\n",
      " [ 0.55555556 -0.77822178 -1.        ]\n",
      " [-0.77777778 -0.998002    1.        ]\n",
      " [-0.11111111 -0.8001998   1.        ]\n",
      " [ 0.77777778  0.998002   -1.        ]] ['None', '1100', '1100', 'None', 'None', 'None', 'None', 'None', 'None', '1100', '0101', 'None', '1100', 'None', '0011', 'None', '1100', 'None', 'None', '0011', 'None', 'None', '0011', 'None', 'None', 'None', 'None', '0011', '1100', 'None']\n"
     ]
    }
   ],
   "source": [
    "print(sample_train,label_train)\n",
    "print(sample_test,label_test)"
   ]
  },
  {
   "cell_type": "markdown",
   "id": "05a5f0ea-a134-4bc6-9533-bfe68c2e2d4b",
   "metadata": {},
   "source": [
    "### Data Encoding\n",
    "\n",
    "We will take the classical data and encode it to the quantum state space using a quantum feature map. \n",
    "\n",
    "### Quantum Feature Maps\n",
    "\n",
    "As the name suggests, a quantum feature map $\\phi(\\mathbf{x})$ is a map from the classical feature vector $\\mathbf{x}$ to the quantum state $|\\Phi(\\mathbf{x})\\rangle\\langle\\Phi(\\mathbf{x})|$. This is facilitated by applying the unitary operation $\\mathcal{U}_{\\Phi(\\mathbf{x})}$ on the initial state $|0\\rangle^{n}$ where n is the number of qubits being used for encoding.\n",
    "\n",
    "\n",
    "There are three feature maps currently available in Qiskit:-\n",
    "\n",
    "1) PauliFeatureMap\n",
    "\n",
    "2) ZFeature Map\n",
    "\n",
    "3) ZZFeature Map\n",
    "\n",
    "Out of these the PauliFeatureMap and ZFeatureMap are simple to simulate classically and do not provide any quantum advantage due to the lack of quantum entanglement, while the ZZFeatureMap having entanglement is the most suitable one to use here for our QSVM.\n",
    "\n",
    "\n",
    "The `NLocal` and `TwoLocal` functions in Qiskit's circuit library can also be used to create parameterised quantum circuits as feature maps or you can even create your own feature map by the `ParameterVector` function but ensure you create parameterized circuits of alternating rotation and entanglement layers to see a quantum advantage.\n",
    "\n",
    "\n",
    "So, I will be using the ZZFeatureMap here"
   ]
  },
  {
   "cell_type": "code",
   "execution_count": 31,
   "id": "5c34a6e3-202d-420e-a01a-b5fa08307b39",
   "metadata": {},
   "outputs": [],
   "source": [
    "zz_map = ZZFeatureMap(feature_dimension=3, reps=2, entanglement='linear', insert_barriers=True)\n",
    "zz_kernel = QuantumKernel(feature_map=zz_map, quantum_instance=Aer.get_backend('statevector_simulator'))"
   ]
  },
  {
   "cell_type": "markdown",
   "id": "8adef408-3c54-471b-87b8-a617e5803471",
   "metadata": {},
   "source": [
    "Encoding the first two training samples in our quantum circuit"
   ]
  },
  {
   "cell_type": "code",
   "execution_count": 32,
   "id": "bcf7c5c5-4143-47ef-ad36-798bfdc689d7",
   "metadata": {},
   "outputs": [
    {
     "data": {
      "image/png": "[encoded data removed]",
      "text/plain": [
       "<Figure size 1591.6x866.88 with 1 Axes>"
      ]
     },
     "execution_count": 32,
     "metadata": {},
     "output_type": "execute_result"
    }
   ],
   "source": [
    "zz_circuit = zz_kernel.construct_circuit(sample_train[0],sample_train[1])\n",
    "zz_circuit.decompose().decompose().draw(output='mpl')"
   ]
  },
  {
   "cell_type": "markdown",
   "id": "c1e27c5d-4a64-41f0-b905-5a6e06c51db4",
   "metadata": {},
   "source": [
    "We then simulate the circuit by defining the backend. We will use the `qasm_simulator` since the circuit contains measurements, but increase the number of shots to reduce the effect of sampling noise."
   ]
  },
  {
   "cell_type": "code",
   "execution_count": 33,
   "id": "27a9ba9b-b4ed-45fd-989f-ea73fae0ffbb",
   "metadata": {},
   "outputs": [],
   "source": [
    "backend = Aer.get_backend('qasm_simulator')\n",
    "job = execute(zz_circuit, backend, shots=8192, \n",
    "              seed_simulator=1024, seed_transpiler=1024)\n",
    "counts = job.result().get_counts(zz_circuit)"
   ]
  },
  {
   "cell_type": "markdown",
   "id": "33ce651b-7e14-4663-a56e-27886ce07198",
   "metadata": {},
   "source": [
    "Plotting a histogram to visualize the amplitudes."
   ]
  },
  {
   "cell_type": "code",
   "execution_count": 51,
   "id": "54b8f6ae-055c-4086-88fc-4aa28d6bf7d8",
   "metadata": {},
   "outputs": [
    {
     "data": {
      "image/png": "[encoded data removed]",
      "text/plain": [
       "<Figure size 504x360 with 1 Axes>"
      ]
     },
     "execution_count": 51,
     "metadata": {},
     "output_type": "execute_result"
    }
   ],
   "source": [
    "plot_histogram(counts)"
   ]
  },
  {
   "cell_type": "markdown",
   "id": "c3463deb-2362-483b-b920-39ad80137ef1",
   "metadata": {},
   "source": [
    "#### Computing and plotting the training and testing kernel matrices"
   ]
  },
  {
   "cell_type": "code",
   "execution_count": 52,
   "id": "002cea44-28ad-4004-b54e-6f9f1c344116",
   "metadata": {},
   "outputs": [
    {
     "data": {
      "image/png": "[encoded data removed]",
      "text/plain": [
       "<Figure size 720x360 with 2 Axes>"
      ]
     },
     "metadata": {
      "needs_background": "light"
     },
     "output_type": "display_data"
    }
   ],
   "source": [
    "matrix_train = zz_kernel.evaluate(x_vec=sample_train)\n",
    "matrix_test = zz_kernel.evaluate(x_vec=sample_test, y_vec=sample_train)\n",
    "\n",
    "fig, axs = plt.subplots(1, 2, figsize=(10, 5))\n",
    "axs[0].imshow(np.asmatrix(matrix_train),\n",
    "              interpolation='nearest', origin='upper', cmap='Blues')\n",
    "axs[0].set_title(\"training kernel matrix\")\n",
    "axs[1].imshow(np.asmatrix(matrix_test),\n",
    "              interpolation='nearest', origin='upper', cmap='Reds')\n",
    "axs[1].set_title(\"testing kernel matrix\")\n",
    "plt.show()"
   ]
  },
  {
   "cell_type": "markdown",
   "metadata": {},
   "source": [
    "#### What are these Kernels?\n",
    "\n",
    "SVM algorithms use a group of mathematical functions that are known as kernels. The function of a kernel is to require data as input and transform it into the desired form. The kernel functions return the scalar product between two points in an exceedingly suitable feature space. Thus by defining a notion of resemblance, with a little computing cost even in the case of very high-dimensional spaces."
   ]
  },
  {
   "cell_type": "markdown",
   "id": "85453a0c-ea11-4eea-b47c-d20db28833e3",
   "metadata": {},
   "source": [
    "### Here we calculate our QSVM Kernel Classification Score with the help of our training and testing kernel matrices\n",
    "\n",
    "I have used 4 classical kernels:-\n",
    "\n",
    "1) Linear Kernel \n",
    "\n",
    "2) Polynomial Kernel \n",
    "\n",
    "3) Gaussian Radial Basis Function Kernel \n",
    "\n",
    "4) Sigmoid Kernel "
   ]
  },
  {
   "cell_type": "code",
   "execution_count": 53,
   "id": "f3303e7d-6d9e-4ea1-92f8-5b1163bdd312",
   "metadata": {},
   "outputs": [
    {
     "name": "stdout",
     "output_type": "stream",
     "text": [
      "linear kernel classification test score:  1.00\n",
      "poly kernel classification test score:  1.00\n",
      "rbf kernel classification test score:  1.00\n",
      "sigmoid kernel classification test score:  0.63\n"
     ]
    }
   ],
   "source": [
    "classical_kernels = ['linear', 'poly', 'rbf', 'sigmoid']\n",
    "\n",
    "for kernel in classical_kernels:\n",
    "    zzpc_svc = SVC(kernel=kernel,C=10,gamma=100)\n",
    "    zzpc_svc.fit(matrix_train, label_train)\n",
    "    zzpc_score = zzpc_svc.score(matrix_test, label_test)\n",
    "\n",
    "    print('%s kernel classification test score:  %0.2f' % (kernel, zzpc_score))"
   ]
  },
  {
   "cell_type": "markdown",
   "id": "6cdd18d7-7716-4c71-95aa-ae3405e73177",
   "metadata": {},
   "source": [
    "Here we calculate the Kernel Classification Score for our Classical SVM  by using the same 4 kernels"
   ]
  },
  {
   "cell_type": "code",
   "execution_count": 54,
   "id": "d948fc78-e02d-4d5f-b96e-46a623d74c8a",
   "metadata": {},
   "outputs": [
    {
     "name": "stdout",
     "output_type": "stream",
     "text": [
      "linear kernel classification test score:  1.00\n",
      "poly kernel classification test score:  1.00\n",
      "rbf kernel classification test score:  1.00\n",
      "sigmoid kernel classification test score:  0.77\n"
     ]
    }
   ],
   "source": [
    "classical_kernels = ['linear', 'poly', 'rbf', 'sigmoid']\n",
    "\n",
    "for kernel in classical_kernels:\n",
    "    classical_svc = SVC(kernel=kernel,C=10,gamma=100)\n",
    "    classical_svc.fit(sample_train, label_train)\n",
    "    classical_score = classical_svc.score(sample_test, label_test)\n",
    "\n",
    "    print('%s kernel classification test score:  %0.2f' % (kernel, classical_score))"
   ]
  },
  {
   "cell_type": "markdown",
   "id": "d5c3fe39-0abc-4e30-b775-86529a538acb",
   "metadata": {},
   "source": [
    "## Results and Analysis:- \n",
    "\n",
    "As you can see the Kernel Classification test scores for both the Classical SVM and QSVM is quite similar. For example, the linear, poly and rbf kernel have an exactly similar score while the sigmoid kernel classification test score is a little different. So, we have successfully managed to bring some similar results between a QSVM and a Classical SVM, which makes the QSVM suitable for real world use.\n",
    "\n",
    "### Is the Kernel Classification Score good?\n",
    "\n",
    "Although, one might think a score of 1(100% probability of predicting classification) is good, but in ML a model with a 100% score is considered a bad model and it is due to the following reasons:-\n",
    "\n",
    "1) **Overfitting of data in the model** - Putting or feeding a lot of data to the model is like spoonfeeding it to find a result, the model will never learn to predict results on new data. The ML models used in the real world need to have the ability to predict the outcome on new data.\n",
    "\n",
    "2) **Simple Dataset** - The dataset we actually use has one feature and 2 dummy features which are derived from the first feature. So, it means that the 2 dummy features are dependent on the first feature and do not add much value to the model. The functions get_output() and decimaltoBinary() made it easier for the model to predict the results.\n",
    "\n",
    "3) **Improper Train-Test-Split ratio** - In this case we used a 80% training and 20% testing ratio for our dataset perhaps we can try to use a higher test ratio and lower training ratio. This ratio needs to be right as this is also one of the reasons for overfitting of data.\n",
    "\n",
    "4) **Hardware Noise**\n",
    "\n",
    "### Possible ways to fix our model:-\n",
    "\n",
    "1) We can prevent overfitting by feeding a higher ratio of digits 1,2,3,4,5 to the model and making it predict the 'None' output state on 6,7,8,9 respectively. It will learn how to predict by only feeding a small amount of digits 6-9 in our training set. We can even use the cross validation technique.\n",
    "\n",
    "2) For the sake of this task, I used a pretty simple model. But, if we use a little more complex dataset like iris or boston housing dataset the model will learn better as these two datasets contain a lot of independent features.\n",
    "\n",
    "### Conclusion:\n",
    "\n",
    "We managed to show how a QSVM can be used to for classification of data and have also done a comparison of results between the QSVM and Classical SVM. We have also successfully managed in proving the feasability of Quantum Support Vector Machines in the real world. There are also a plethora of alternatives to using an SVM method; quantum generated features created from the encoding gates explored here could be passed to another classical or quantum classifying algorithm. Whether the same encoding circuits that performed well for the QSVM also succeed in other approaches would be a question for further investigation."
   ]
  },
  {
   "cell_type": "markdown",
   "metadata": {},
   "source": [
    "## References:\n",
    "\n",
    "- 1) **A special thanks to Qiskit Global Summer School 2021**\n",
    "\n",
    "- 2) **Introduction to Quantum Support Vector Machines:**: https://medium.com/@patrick.huembeli/introduction-into-quantum-support-vector-machines-727f3ccfa2b4\n",
    "\n",
    "- 3) **Quantum support vector machine for big data classification**: https://arxiv.org/abs/1307.0471\n",
    "\n",
    "- 4) **Quantum Support Vector Machines for Continuum Suppression in B Meson Decays**: https://arxiv.org/abs/2103.12257\n",
    "\n",
    "- 5) **Quantum-Inspired Support Vector Machine**: https://arxiv.org/abs/1906.08902\n",
    "\n",
    "- 6) **Supervised learning with quantum-enhanced feature spaces** - https://www.nature.com/articles/s41586-019-0980-2"
   ]
  }
 ],
 "metadata": {
  "kernelspec": {
   "display_name": "Python 3",
   "language": "python",
   "name": "python3"
  },
  "language_info": {
   "codemirror_mode": {
    "name": "ipython",
    "version": 3
   },
   "file_extension": ".py",
   "mimetype": "text/x-python",
   "name": "python",
   "nbconvert_exporter": "python",
   "pygments_lexer": "ipython3",
   "version": "3.8.5"
  },
  "widgets": {
   "application/vnd.jupyter.widget-state+json": {
    "state": {},
    "version_major": 2,
    "version_minor": 0
   }
  }
 },
 "nbformat": 4,
 "nbformat_minor": 5
}
